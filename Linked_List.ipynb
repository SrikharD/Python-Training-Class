{
 "cells": [
  {
   "cell_type": "code",
   "execution_count": 572,
   "id": "efa072cd",
   "metadata": {},
   "outputs": [],
   "source": [
    "#insertAtstart\n",
    "#insertanywhere\n",
    "#insertAtend\n",
    "\n",
    "class Node:\n",
    "    def __init__(self,data):\n",
    "        self.data = data\n",
    "        self.next = None\n",
    "class LinkedList:\n",
    "    def __init__(self):\n",
    "        self.head = None\n",
    "        \n",
    "#     def InsertatEnd(self,new_node):\n",
    "#         new_node = Node(new_node)\n",
    "#         current = self.head\n",
    "#         print(f\"Entered: {self.head}\")\n",
    "#         if current:\n",
    "#             while current.next is not None:\n",
    "#                 print(f\"While:{current.next}\")\n",
    "#                 current = current.next\n",
    "#             current.next = new_node\n",
    "#         else:\n",
    "#             self.head = new_node\n",
    "            \n",
    "    def InsertatEnd(self,data):\n",
    "        \n",
    "        new_data = Node(data)\n",
    "        current = self.head\n",
    "        if self.head is None:\n",
    "            self.head = new_data\n",
    "        \n",
    "        else:\n",
    "            while current.next is not None:\n",
    "                current = current.next\n",
    "            current.next = new_data\n",
    "            \n",
    "    def Print(self):\n",
    "        current = self.head\n",
    "        while current is None:\n",
    "            print(current.data)\n",
    "            current = current.next\n",
    "        \n",
    "        \n",
    "#     def InsertHere(self,new_element,pos):\n",
    "#         new_element = Node(new_element)\n",
    "#         count = 1\n",
    "#         current = self.head\n",
    "#         if pos==1:   # InsertAtStart\n",
    "#             new_element.next = self.head\n",
    "#             self.head = new_element\n",
    "#         while current:\n",
    "#             if count+1 == pos:\n",
    "#                 new_element.next = current.next\n",
    "#                 current.next = new_element\n",
    "#                 return\n",
    "#             else:\n",
    "#                 count += 1\n",
    "#                 current = current.next\n",
    "\n",
    "\n",
    "#     def Del(self,value):\n",
    "#         current = self.head\n",
    "#         if current and current.data == value:\n",
    "#             self.head = current.next\n",
    "#             return\n",
    "        \n",
    "#         prev = None\n",
    "        \n",
    "        \n",
    "#         while current:\n",
    "#             if current.data == value:\n",
    "#                 break\n",
    "#             prev = current\n",
    "#             current = current.next\n",
    "                \n",
    "#         if not current:\n",
    "#             return\n",
    "            \n",
    "#         prev.next = current.next\n",
    "#         current = None\n",
    "    \n",
    "    \n",
    "#     def print_elements(self):\n",
    "#         if self.head is None:\n",
    "#             print(\"No elements to print. Linked list is empty.\")\n",
    "#             return\n",
    "#         current = self.head\n",
    "#         while current is not None:\n",
    "#             print(current.data)\n",
    "#             current = current.next\n",
    "    \n",
    "    \n",
    "#     def Search_Element(self,value):\n",
    "#         if self.head is None or self.head.data is not value:\n",
    "#              print(\"No Element!\")\n",
    "#             return False\n",
    "#         else:\n",
    "#             current = self.head\n",
    "#             while(True):\n",
    "#                 if current == value:\n",
    "#                     return current.head\n",
    "#                  print(\"No Such Element!\")\n",
    "#                 return None"
   ]
  },
  {
   "cell_type": "code",
   "execution_count": null,
   "id": "b8cbd0c3",
   "metadata": {},
   "outputs": [],
   "source": [
    " "
   ]
  },
  {
   "cell_type": "code",
   "execution_count": 573,
   "id": "8062bfb5",
   "metadata": {},
   "outputs": [],
   "source": [
    "ll = LinkedList()"
   ]
  },
  {
   "cell_type": "code",
   "execution_count": 574,
   "id": "5acb7b74",
   "metadata": {},
   "outputs": [],
   "source": [
    "ll.InsertatEnd(1)"
   ]
  },
  {
   "cell_type": "code",
   "execution_count": 575,
   "id": "68294cda",
   "metadata": {},
   "outputs": [],
   "source": [
    "ll.InsertatEnd(2)"
   ]
  },
  {
   "cell_type": "code",
   "execution_count": 576,
   "id": "5f9df341",
   "metadata": {},
   "outputs": [],
   "source": [
    "ll.InsertatEnd(3)"
   ]
  },
  {
   "cell_type": "code",
   "execution_count": 577,
   "id": "25e9580c",
   "metadata": {},
   "outputs": [],
   "source": [
    "ll.InsertatEnd(4)"
   ]
  },
  {
   "cell_type": "code",
   "execution_count": 578,
   "id": "ddfe4158",
   "metadata": {},
   "outputs": [],
   "source": [
    "ll.Print()"
   ]
  },
  {
   "cell_type": "code",
   "execution_count": null,
   "id": "ad0e22ab",
   "metadata": {},
   "outputs": [],
   "source": []
  },
  {
   "cell_type": "code",
   "execution_count": null,
   "id": "fa3450c9",
   "metadata": {},
   "outputs": [],
   "source": []
  },
  {
   "cell_type": "code",
   "execution_count": 580,
   "id": "54eaced2",
   "metadata": {},
   "outputs": [
    {
     "ename": "TypeError",
     "evalue": "'NoneType' object is not callable",
     "output_type": "error",
     "traceback": [
      "\u001b[1;31m---------------------------------------------------------------------------\u001b[0m",
      "\u001b[1;31mTypeError\u001b[0m                                 Traceback (most recent call last)",
      "\u001b[1;32m~\\AppData\\Local\\Temp/ipykernel_8272/2606916070.py\u001b[0m in \u001b[0;36m<module>\u001b[1;34m\u001b[0m\n\u001b[0;32m     50\u001b[0m \u001b[0mll\u001b[0m\u001b[1;33m.\u001b[0m\u001b[0minsert\u001b[0m\u001b[1;33m(\u001b[0m\u001b[1;36m4\u001b[0m\u001b[1;33m)\u001b[0m\u001b[1;33m\u001b[0m\u001b[1;33m\u001b[0m\u001b[0m\n\u001b[0;32m     51\u001b[0m \u001b[0mll\u001b[0m\u001b[1;33m.\u001b[0m\u001b[0minsert_anywhere\u001b[0m\u001b[1;33m(\u001b[0m\u001b[1;36m3\u001b[0m\u001b[1;33m,\u001b[0m\u001b[1;36m2\u001b[0m\u001b[1;33m)\u001b[0m\u001b[1;33m\u001b[0m\u001b[1;33m\u001b[0m\u001b[0m\n\u001b[1;32m---> 52\u001b[1;33m \u001b[0mll\u001b[0m\u001b[1;33m.\u001b[0m\u001b[0mPrintLL\u001b[0m\u001b[1;33m(\u001b[0m\u001b[1;33m)\u001b[0m\u001b[1;33m\u001b[0m\u001b[1;33m\u001b[0m\u001b[0m\n\u001b[0m",
      "\u001b[1;32m~\\AppData\\Local\\Temp/ipykernel_8272/2606916070.py\u001b[0m in \u001b[0;36mPrintLL\u001b[1;34m(self)\u001b[0m\n\u001b[0;32m     23\u001b[0m         \u001b[0mcurrent\u001b[0m \u001b[1;33m=\u001b[0m \u001b[0mself\u001b[0m\u001b[1;33m.\u001b[0m\u001b[0mhead\u001b[0m\u001b[1;33m\u001b[0m\u001b[1;33m\u001b[0m\u001b[0m\n\u001b[0;32m     24\u001b[0m         \u001b[1;32mwhile\u001b[0m \u001b[0mcurrent\u001b[0m\u001b[1;33m:\u001b[0m\u001b[1;33m\u001b[0m\u001b[1;33m\u001b[0m\u001b[0m\n\u001b[1;32m---> 25\u001b[1;33m             \u001b[0mprint\u001b[0m\u001b[1;33m(\u001b[0m\u001b[0mcurrent\u001b[0m\u001b[1;33m.\u001b[0m\u001b[0mdata\u001b[0m\u001b[1;33m)\u001b[0m\u001b[1;33m\u001b[0m\u001b[1;33m\u001b[0m\u001b[0m\n\u001b[0m\u001b[0;32m     26\u001b[0m             \u001b[0mcurrent\u001b[0m \u001b[1;33m=\u001b[0m \u001b[0mcurrent\u001b[0m\u001b[1;33m.\u001b[0m\u001b[0mnext\u001b[0m\u001b[1;33m\u001b[0m\u001b[1;33m\u001b[0m\u001b[0m\n\u001b[0;32m     27\u001b[0m \u001b[1;33m\u001b[0m\u001b[0m\n",
      "\u001b[1;31mTypeError\u001b[0m: 'NoneType' object is not callable"
     ]
    }
   ],
   "source": [
    "class Node:\n",
    "    def __init__(self,data):\n",
    "        self.data = data\n",
    "        self.next = None\n",
    "        \n",
    "class SLL:\n",
    "    def __init__(self):\n",
    "        self.head = None\n",
    "        \n",
    "    def insert(self,some_data):\n",
    "        \n",
    "        data = Node(some_data)\n",
    "        current = self.head\n",
    "        \n",
    "        if self.head == None:\n",
    "            self.head = data\n",
    "        else:\n",
    "            while current.next is not None:\n",
    "                current = current.next\n",
    "            current.next = data\n",
    "        \n",
    "    def PrintLL(self):\n",
    "        current = self.head\n",
    "        while current:\n",
    "            print(current.data)\n",
    "            current = current.next\n",
    "    \n",
    "    def insert_anywhere(self,some_value,pos):\n",
    "        value = Node(some_value)\n",
    "        current = self.head\n",
    "        count = -1\n",
    "        if pos == 0:\n",
    "            value.next = self.head\n",
    "            self.head = value\n",
    "        else:\n",
    "            while current is not None:\n",
    "                count +=1\n",
    "                if count == pos:\n",
    "                    temp = current\n",
    "                    current.data = value\n",
    "                    value.next = temp\n",
    "#                     print(f\"temp data{temp.data}\")\n",
    "                    # current.next = value\n",
    "                elif count != pos:\n",
    "                     current = current.next\n",
    "\n",
    "ll = SLL()\n",
    "ll.insert(1)\n",
    "ll.insert(2)\n",
    "ll.insert(4)\n",
    "ll.insert_anywhere(3,2)\n",
    "ll.PrintLL()"
   ]
  },
  {
   "cell_type": "code",
   "execution_count": null,
   "id": "2d28b609",
   "metadata": {},
   "outputs": [],
   "source": []
  },
  {
   "cell_type": "code",
   "execution_count": null,
   "id": "1af9805d",
   "metadata": {},
   "outputs": [],
   "source": []
  },
  {
   "cell_type": "code",
   "execution_count": null,
   "id": "35f9fdea",
   "metadata": {},
   "outputs": [],
   "source": []
  }
 ],
 "metadata": {
  "kernelspec": {
   "display_name": "Python 3 (ipykernel)",
   "language": "python",
   "name": "python3"
  },
  "language_info": {
   "codemirror_mode": {
    "name": "ipython",
    "version": 3
   },
   "file_extension": ".py",
   "mimetype": "text/x-python",
   "name": "python",
   "nbconvert_exporter": "python",
   "pygments_lexer": "ipython3",
   "version": "3.9.7"
  }
 },
 "nbformat": 4,
 "nbformat_minor": 5
}
